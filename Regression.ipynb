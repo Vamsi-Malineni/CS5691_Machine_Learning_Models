{
  "nbformat": 4,
  "nbformat_minor": 0,
  "metadata": {
    "colab": {
      "name": "Regression",
      "provenance": [],
      "mount_file_id": "1hjJC0p5OtL-laNiHs-9mWjl_HNXio9Vr",
      "authorship_tag": "ABX9TyMCiZ1xGWy6Rtc1saCnyoDJ",
      "include_colab_link": true
    },
    "kernelspec": {
      "name": "python3",
      "display_name": "Python 3"
    },
    "language_info": {
      "name": "python"
    }
  },
  "cells": [
    {
      "cell_type": "markdown",
      "metadata": {
        "id": "view-in-github",
        "colab_type": "text"
      },
      "source": [
        "<a href=\"https://colab.research.google.com/github/Vamsi-Malineni/CS5691_Machine_Learning_Models/blob/main/Regression.ipynb\" target=\"_parent\"><img src=\"https://colab.research.google.com/assets/colab-badge.svg\" alt=\"Open In Colab\"/></a>"
      ]
    },
    {
      "cell_type": "code",
      "execution_count": 1,
      "metadata": {
        "id": "x0btF3Z-1ebo"
      },
      "outputs": [],
      "source": [
        "# Importing Packages\n",
        "import numpy as np\n",
        "import math\n",
        "from numpy import genfromtxt\n",
        "import matplotlib.pyplot as plt\n"
      ]
    },
    {
      "cell_type": "code",
      "source": [
        "# Extracting data from the csv file.\n",
        "data=genfromtxt(r'/content/drive/MyDrive/Assignment1 datasets/function2.csv',delimiter=',',skip_header=1)\n",
        "data=np.delete(data,0,axis=1)\n",
        "\n",
        "x=data[:,0:1]\n",
        "y=data[:,1:2]\n"
      ],
      "metadata": {
        "colab": {
          "base_uri": "https://localhost:8080/"
        },
        "id": "LDXZbPpC3dMw",
        "outputId": "770ff332-ffe1-41b9-b6e2-9070b5dc5515"
      },
      "execution_count": 7,
      "outputs": [
        {
          "output_type": "stream",
          "name": "stdout",
          "text": [
            "[[ -0.87291905   3.69229418]\n",
            " [  1.75981109 -19.28920873]\n",
            " [  0.67419657  -9.45669941]\n",
            " ...\n",
            " [  0.28582918  -3.46737749]\n",
            " [  0.48603387  -6.38633468]\n",
            " [ -0.06030456   0.52278776]]\n"
          ]
        }
      ]
    },
    {
      "cell_type": "code",
      "source": [
        ""
      ],
      "metadata": {
        "id": "w0NiAIb24hHa"
      },
      "execution_count": null,
      "outputs": []
    }
  ]
}